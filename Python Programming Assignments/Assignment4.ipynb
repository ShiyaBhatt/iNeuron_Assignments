{
 "cells": [
  {
   "cell_type": "raw",
   "id": "4461c526",
   "metadata": {},
   "source": [
    "1.Write a Python Program to find the factorial of a number ?"
   ]
  },
  {
   "cell_type": "code",
   "execution_count": 1,
   "id": "53874cdd",
   "metadata": {},
   "outputs": [
    {
     "name": "stdout",
     "output_type": "stream",
     "text": [
      "Enter a number: 23\n",
      "The Factorial of 23 is 25852016738884976640000\n"
     ]
    }
   ],
   "source": [
    "\n",
    "def factorial(num):\n",
    "    if (num < 1):\n",
    "        return 1\n",
    "    else:\n",
    "        return num*factorial(num-1)\n",
    "num = int(input('Enter a number: '))\n",
    "value = factorial(num)\n",
    "print(f'The Factorial of {num} is {value}')"
   ]
  },
  {
   "cell_type": "raw",
   "id": "be4ec965",
   "metadata": {},
   "source": [
    "2.Write a Python Program to display the multiplication table ?"
   ]
  },
  {
   "cell_type": "code",
   "execution_count": 2,
   "id": "5caad413",
   "metadata": {},
   "outputs": [
    {
     "name": "stdout",
     "output_type": "stream",
     "text": [
      "Enter a number: 32\n",
      "Enter no of entries: 43\n",
      "32 X 1 = 32\n",
      "32 X 2 = 64\n",
      "32 X 3 = 96\n",
      "32 X 4 = 128\n",
      "32 X 5 = 160\n",
      "32 X 6 = 192\n",
      "32 X 7 = 224\n",
      "32 X 8 = 256\n",
      "32 X 9 = 288\n",
      "32 X 10 = 320\n",
      "32 X 11 = 352\n",
      "32 X 12 = 384\n",
      "32 X 13 = 416\n",
      "32 X 14 = 448\n",
      "32 X 15 = 480\n",
      "32 X 16 = 512\n",
      "32 X 17 = 544\n",
      "32 X 18 = 576\n",
      "32 X 19 = 608\n",
      "32 X 20 = 640\n",
      "32 X 21 = 672\n",
      "32 X 22 = 704\n",
      "32 X 23 = 736\n",
      "32 X 24 = 768\n",
      "32 X 25 = 800\n",
      "32 X 26 = 832\n",
      "32 X 27 = 864\n",
      "32 X 28 = 896\n",
      "32 X 29 = 928\n",
      "32 X 30 = 960\n",
      "32 X 31 = 992\n",
      "32 X 32 = 1024\n",
      "32 X 33 = 1056\n",
      "32 X 34 = 1088\n",
      "32 X 35 = 1120\n",
      "32 X 36 = 1152\n",
      "32 X 37 = 1184\n",
      "32 X 38 = 1216\n",
      "32 X 39 = 1248\n",
      "32 X 40 = 1280\n",
      "32 X 41 = 1312\n",
      "32 X 42 = 1344\n",
      "32 X 43 = 1376\n"
     ]
    }
   ],
   "source": [
    "\n",
    "def generateTable(base,entries):\n",
    "    for x in range(1,entries+1):\n",
    "        print(f'{base} X {x} = {base*x}')\n",
    "\n",
    "num = int(input('Enter a number: '))\n",
    "values = int(input('Enter no of entries: '))\n",
    "generateTable(num,values)"
   ]
  },
  {
   "cell_type": "raw",
   "id": "9e61865f",
   "metadata": {},
   "source": [
    "3.Write a Python Program to print the fibonacci sequence ?"
   ]
  },
  {
   "cell_type": "code",
   "execution_count": 3,
   "id": "d7bd2965",
   "metadata": {},
   "outputs": [
    {
     "name": "stdout",
     "output_type": "stream",
     "text": [
      "Enter the no of fibonacci sequences you want? 5\n",
      "The First 5 fibonacci series are:  [0, 1, 1, 2, 3]\n"
     ]
    }
   ],
   "source": [
    "\n",
    "s_count = int(input('Enter the no of fibonacci sequences you want? '))\n",
    "initial_list = [0,1]\n",
    "if s_count < 0:\n",
    "    print('Fibonacci Numbers are not available for Negative Numbers')\n",
    "elif s_count <= 2 and s_count >= 0:\n",
    "    print(initial_list)\n",
    "else:\n",
    "    for ins in range(s_count):\n",
    "        if ins >= 2:\n",
    "            initial_list.append(initial_list[ins-1]+initial_list[ins-2])\n",
    "    print(f'The First {s_count} fibonacci series are: ',initial_list)"
   ]
  },
  {
   "cell_type": "raw",
   "id": "d26b7ce4",
   "metadata": {},
   "source": [
    "4.Write a Python Program to check Armstrong number ?"
   ]
  },
  {
   "cell_type": "code",
   "execution_count": 4,
   "id": "d4488582",
   "metadata": {},
   "outputs": [
    {
     "name": "stdout",
     "output_type": "stream",
     "text": [
      "Enter a number: 43\n",
      "43 is a Not Armstrong Number\n",
      "Enter a number: 24\n",
      "24 is a Not Armstrong Number\n"
     ]
    }
   ],
   "source": [
    "\n",
    "def checkArmstrongNumber():\n",
    "    in_num = input('Enter a number: ')\n",
    "    sum = 0\n",
    "    for char in range(len(in_num)):\n",
    "        sum = sum + pow(int(in_num[char]),3)\n",
    "    if sum == int(in_num):\n",
    "        print(f'{in_num} is a Armstrong Number')\n",
    "    else:\n",
    "        print(f'{in_num} is a Not Armstrong Number')\n",
    "\n",
    "for x in range(2):\n",
    "    checkArmstrongNumber()"
   ]
  },
  {
   "cell_type": "raw",
   "id": "858ce405",
   "metadata": {},
   "source": [
    "5.Write a Python Program to Find Armstrong number in an interval ?"
   ]
  },
  {
   "cell_type": "code",
   "execution_count": 5,
   "id": "7b7fb17d",
   "metadata": {},
   "outputs": [
    {
     "name": "stdout",
     "output_type": "stream",
     "text": [
      "Enter the Start of the Interval: 24\n",
      "Enter the End of the Interval: 45\n",
      "The Armstrong numbers between 24 and 45 are []\n"
     ]
    }
   ],
   "source": [
    "\n",
    "def checkArmstrongNumber(in_num, storage):\n",
    "    sum = 0\n",
    "    for char in range(len(in_num)):\n",
    "        sum = sum + pow(int(in_num[char]),3)\n",
    "    if sum == int(in_num):\n",
    "        storage.append(int(in_num))\n",
    "\n",
    "start_interval = int(input('Enter the Start of the Interval: '))\n",
    "end_interval = int(input('Enter the End of the Interval: '))\n",
    "list_of_armstrong = []\n",
    "\n",
    "if start_interval > end_interval:\n",
    "    print(\"Start Interval Cannot be Greater than End Interval\")\n",
    "else:\n",
    "    for number in range(start_interval,end_interval+1):\n",
    "        checkArmstrongNumber(str(number),list_of_armstrong)\n",
    "    print(f'The Armstrong numbers between {start_interval} and {end_interval} are {list_of_armstrong}')"
   ]
  },
  {
   "cell_type": "raw",
   "id": "0db07444",
   "metadata": {},
   "source": [
    "6.Write a Python Program to sum of natural numbers ?"
   ]
  },
  {
   "cell_type": "code",
   "execution_count": 6,
   "id": "790a3461",
   "metadata": {},
   "outputs": [
    {
     "name": "stdout",
     "output_type": "stream",
     "text": [
      "Enter a number: 34\n",
      "Sum of 34 natural numbers is 595.0\n"
     ]
    }
   ],
   "source": [
    "\n",
    "def sumOfNaturalNumbers(num):\n",
    "    sum = num*((num+1)/2)\n",
    "    print(f'Sum of {num} natural numbers is {sum}')\n",
    "    \n",
    "num = int(input('Enter a number: '))\n",
    "sumOfNaturalNumbers(num)"
   ]
  }
 ],
 "metadata": {
  "kernelspec": {
   "display_name": "Python 3 (ipykernel)",
   "language": "python",
   "name": "python3"
  },
  "language_info": {
   "codemirror_mode": {
    "name": "ipython",
    "version": 3
   },
   "file_extension": ".py",
   "mimetype": "text/x-python",
   "name": "python",
   "nbconvert_exporter": "python",
   "pygments_lexer": "ipython3",
   "version": "3.9.12"
  }
 },
 "nbformat": 4,
 "nbformat_minor": 5
}
