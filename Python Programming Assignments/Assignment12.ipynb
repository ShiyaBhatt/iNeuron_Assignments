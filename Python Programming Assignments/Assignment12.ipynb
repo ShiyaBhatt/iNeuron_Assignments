{
 "cells": [
  {
   "cell_type": "code",
   "execution_count": null,
   "id": "e2807d4a",
   "metadata": {},
   "outputs": [],
   "source": [
    "# 1.Write a Python program to Extract Unique values dictionary values?"
   ]
  },
  {
   "cell_type": "code",
   "execution_count": 1,
   "id": "969b7a36",
   "metadata": {},
   "outputs": [
    {
     "name": "stdout",
     "output_type": "stream",
     "text": [
      "Enter a Number: 34\n",
      "34 is a Not Disarium Number\n",
      "Enter a Number: 175\n",
      "175 is a Disarium Number\n"
     ]
    }
   ],
   "source": [
    "in_dict = {1:'Rishikesh',2:'Badrinath',3:'Gangotri',4:'Yamunotri',5:'Kedarnath',6:'Tirupati',7:'Kedarnath'}\n",
    "print(in_dict.values())\n",
    "print(f'Unique Values: {list(set(in_dict.values()))}')"
   ]
  },
  {
   "cell_type": "code",
   "execution_count": null,
   "id": "366eb915",
   "metadata": {},
   "outputs": [],
   "source": [
    "# 2.Write a Python program to find the sum of all items in a dictionary?"
   ]
  },
  {
   "cell_type": "code",
   "execution_count": 2,
   "id": "77d58b3f",
   "metadata": {},
   "outputs": [
    {
     "data": {
      "text/plain": [
       "[1, 2, 3, 4, 5, 6, 7, 8, 9, 89, 135, 175, 518, 598]"
      ]
     },
     "execution_count": 2,
     "metadata": {},
     "output_type": "execute_result"
    }
   ],
   "source": [
    "in_dict = {'Apple':10,'Mango':20,'Banana':30,'Guava':40,'PineApple':200}\n",
    "print('Sum of All items: ',sum(in_dict.values()))"
   ]
  },
  {
   "cell_type": "code",
   "execution_count": null,
   "id": "a28a8bd5",
   "metadata": {},
   "outputs": [],
   "source": [
    "# 3.Write a Python program to Merging two Dictionaries?"
   ]
  },
  {
   "cell_type": "code",
   "execution_count": 3,
   "id": "2913f278",
   "metadata": {},
   "outputs": [
    {
     "name": "stdout",
     "output_type": "stream",
     "text": [
      "Enter a Number: 45\n",
      "45 is not a Happy Number\n",
      "Enter a Number: 4\n",
      "4 is not a Happy Number\n"
     ]
    }
   ],
   "source": [
    "course_details = {\n",
    "    'cousre_name':'Ineuron'\n",
    "}\n",
    "instructors = {\n",
    "    'course_instructors':['Sudhanshu Kumar','Krish Naik']\n",
    "}\n",
    "course_details.update(instructors)\n",
    "print(course_details)"
   ]
  },
  {
   "cell_type": "code",
   "execution_count": null,
   "id": "d69c2146",
   "metadata": {},
   "outputs": [],
   "source": [
    "# 4.Write a Python program to convert key-values list to flat dictionary?"
   ]
  },
  {
   "cell_type": "code",
   "execution_count": 4,
   "id": "f47574da",
   "metadata": {},
   "outputs": [
    {
     "name": "stdout",
     "output_type": "stream",
     "text": [
      "The Happy Numbers between 0 and 100 are [1, 7, 10, 13, 19, 23, 28, 31, 32, 44, 49, 68, 70, 79, 82, 86, 91, 94, 97, 100]\n"
     ]
    }
   ],
   "source": [
    "in_list = [('A',10),('B',20),('C',30),('D',40),('E',50),('F',60),('G',70),('H',80),('I',90),('J',100)]\n",
    "\n",
    "# Method #1\n",
    "dict(in_list)\n",
    "\n",
    "# Method #2\n",
    "out_dict = {}\n",
    "for ele in in_list:\n",
    "    out_dict[ele[0]] = ele[1]\n",
    "print(out_dict)"
   ]
  },
  {
   "cell_type": "code",
   "execution_count": null,
   "id": "0d8df74d",
   "metadata": {},
   "outputs": [],
   "source": [
    "# 5.Write a Python program to insertion at the beginning in OrderedDict?"
   ]
  },
  {
   "cell_type": "code",
   "execution_count": 5,
   "id": "d4e0c626",
   "metadata": {},
   "outputs": [
    {
     "name": "stdout",
     "output_type": "stream",
     "text": [
      "Enter a Number: 88\n",
      "88 is a Not Harshad Number\n",
      "Enter a Number: 7\n",
      "7 is a Harshad Number\n"
     ]
    }
   ],
   "source": [
    "from collections import OrderedDict\n",
    "dict_one = OrderedDict({'Apple':'Iphone','Microsoft':'Windows','Google':'chrome'})\n",
    "print('dict_one',dict_one)\n",
    "dict_two = {'Tesla':'SpaceX'}\n",
    "dict_one.update(dict_two)\n",
    "print('dict_one',dict_one)\n",
    "dict_one.move_to_end('Tesla',last=False)\n",
    "print('dict_one',dict_one)"
   ]
  },
  {
   "cell_type": "code",
   "execution_count": null,
   "id": "9201fb9b",
   "metadata": {},
   "outputs": [],
   "source": [
    "# 6.Write a Python program to check order of character in string using OrderedDict()?"
   ]
  },
  {
   "cell_type": "code",
   "execution_count": 6,
   "id": "4ca98b19",
   "metadata": {},
   "outputs": [
    {
     "name": "stdout",
     "output_type": "stream",
     "text": [
      "[0, 2, 6, 12, 20, 30, 42, 56, 72, 90, 110, 132, 156, 182, 210, 240, 272, 306, 342, 380, 420, 462, 506, 552, 600, 650, 702, 756, 812, 870, 930, 992, 1056, 1122, 1190, 1260, 1332, 1406, 1482, 1560, 1640, 1722, 1806, 1892, 1980, 2070, 2162, 2256, 2352, 2450, 2550, 2652, 2756, 2862, 2970, 3080, 3192, 3306, 3422, 3540, 3660, 3782, 3906, 4032, 4160, 4290, 4422, 4556, 4692, 4830, 4970, 5112, 5256, 5402, 5550, 5700, 5852, 6006, 6162, 6320, 6480, 6642, 6806, 6972, 7140, 7310, 7482, 7656, 7832, 8010, 8190, 8372, 8556, 8742, 8930, 9120, 9312, 9506, 9702, 9900, 10100]\n"
     ]
    }
   ],
   "source": [
    "from collections import OrderedDict\n",
    "\n",
    "initial_list = {'a': 1000, 'f': 200, 'd': 300, 'c': 400, 'b': 500, 'e': 600}\n",
    "print(initial_list)\n",
    "\n",
    "final_list = OrderedDict(dict(sorted(initial_list.items())))\n",
    "print(final_list)"
   ]
  },
  {
   "cell_type": "code",
   "execution_count": null,
   "id": "615e3c04",
   "metadata": {},
   "outputs": [],
   "source": [
    "# 7.Write a Python program to sort Python Dictionaries by Key or Value?"
   ]
  },
  {
   "cell_type": "code",
   "execution_count": null,
   "id": "eedc598b",
   "metadata": {},
   "outputs": [],
   "source": [
    "d_items = {'Mango':100,'PineApple':22,'Banana':60,'Grape':13}\n",
    "\n",
    "def sort_dict(in_dict,sort_type):\n",
    "    if sort_type == 'key':\n",
    "        print(dict(sorted(in_dict.items(), key=lambda x:x[0], reverse=False)))\n",
    "    else:\n",
    "        print(dict(sorted(in_dict.items(), key=lambda x:x[1], reverse=False)))\n",
    "        \n",
    "sort_dict(d_items,'key')        \n",
    "sort_dict(d_items,'value')"
   ]
  }
 ],
 "metadata": {
  "kernelspec": {
   "display_name": "Python 3 (ipykernel)",
   "language": "python",
   "name": "python3"
  },
  "language_info": {
   "codemirror_mode": {
    "name": "ipython",
    "version": 3
   },
   "file_extension": ".py",
   "mimetype": "text/x-python",
   "name": "python",
   "nbconvert_exporter": "python",
   "pygments_lexer": "ipython3",
   "version": "3.9.12"
  }
 },
 "nbformat": 4,
 "nbformat_minor": 5
}
